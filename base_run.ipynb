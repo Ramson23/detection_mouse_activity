{
 "cells": [
  {
   "cell_type": "code",
   "execution_count": 1,
   "metadata": {},
   "outputs": [
    {
     "name": "stdout",
     "output_type": "stream",
     "text": [
      "Директория ./new_mouse_union уже пустая\n",
      "Директория ./new_mouse_data_sep уже пустая\n",
      "Директория ./new_extracted_data уже пустая\n",
      "Файл new_mouse_data_sep/00.32.02_2023-11-23.csv успешно сохранен\n",
      "Файл new_mouse_data_sep/01.26.36_2023-11-13.csv успешно сохранен\n",
      "Файл new_mouse_data_sep/09.52.12_2023-11-23.csv успешно сохранен\n",
      "Файл new_mouse_data_sep/14.11.45_2023-11-18.csv успешно сохранен\n",
      "Файл new_mouse_data_sep/14.13.18_2023-11-18.csv успешно сохранен\n",
      "Файл new_mouse_data_sep/15.28.15_2023-11-18.csv успешно сохранен\n",
      "Файл new_mouse_data_sep/23.51.17_2023-11-18.csv успешно сохранен\n",
      "Файл new_mouse_union/00.32.02_2023-11-23.csv успешно сохранен\n",
      "Файл new_mouse_union/01.26.36_2023-11-13.csv успешно сохранен\n",
      "Файл new_mouse_union/09.52.12_2023-11-23.csv успешно сохранен\n",
      "Файл new_mouse_union/14.11.45_2023-11-18.csv успешно сохранен\n",
      "Файл new_mouse_union/14.13.18_2023-11-18.csv успешно сохранен\n",
      "Файл new_mouse_union/15.28.15_2023-11-18.csv успешно сохранен\n",
      "Файл new_mouse_union/23.51.17_2023-11-18.csv успешно сохранен\n",
      "Файл new_extracted_data/00.32.02_2023-11-23.csv успешно обработан\n",
      "Файл new_extracted_data/01.26.36_2023-11-13.csv успешно обработан\n",
      "Файл new_extracted_data/09.52.12_2023-11-23.csv успешно обработан\n",
      "Файл new_extracted_data/14.11.45_2023-11-18.csv успешно обработан\n",
      "Файл new_extracted_data/14.13.18_2023-11-18.csv успешно обработан\n",
      "Файл new_extracted_data/15.28.15_2023-11-18.csv успешно обработан\n",
      "Файл new_extracted_data/23.51.17_2023-11-18.csv успешно обработан\n"
     ]
    }
   ],
   "source": [
    "%run clean_folder.py -f ./new_mouse_union\n",
    "%run clean_folder.py -f ./new_mouse_data_sep\n",
    "%run clean_folder.py -f ./new_extracted_data\n",
    "\n",
    "%run data_separate_activity_segment.py\n",
    "%run data_union_same_angle.py\n",
    "%run data_extraction.py"
   ]
  }
 ],
 "metadata": {
  "kernelspec": {
   "display_name": "mouse_project",
   "language": "python",
   "name": "python3"
  },
  "language_info": {
   "codemirror_mode": {
    "name": "ipython",
    "version": 3
   },
   "file_extension": ".py",
   "mimetype": "text/x-python",
   "name": "python",
   "nbconvert_exporter": "python",
   "pygments_lexer": "ipython3",
   "version": "3.10.11"
  }
 },
 "nbformat": 4,
 "nbformat_minor": 2
}
